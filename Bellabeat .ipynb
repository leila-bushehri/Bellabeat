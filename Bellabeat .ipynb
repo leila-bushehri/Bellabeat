{
 "cells": [
  {
   "cell_type": "code",
   "execution_count": 41,
   "id": "cc45a5ed",
   "metadata": {},
   "outputs": [],
   "source": [
    "#importing everything we need \n",
    "import pandas as pd\n",
    "import matplotlib.pyplot as plt\n",
    "import seaborn as sns\n"
   ]
  },
  {
   "cell_type": "markdown",
   "id": "6a0c34ac",
   "metadata": {},
   "source": [
    "loading all our csv files to clean "
   ]
  },
  {
   "cell_type": "code",
   "execution_count": 7,
   "id": "89879e93",
   "metadata": {},
   "outputs": [],
   "source": [
    "daily_activity_df = pd.read_csv('dailyActivity_merged.csv')\n",
    "daily_steps_df = pd.read_csv('dailySteps_merged.csv')\n",
    "sleep_day_df = pd.read_csv('sleepDay_merged.csv')\n",
    "heart_rate_df = pd.read_csv('heartrate_seconds_merged.csv')\n",
    "weight_log_df = pd.read_csv('weightLogInfo_merged.csv')"
   ]
  },
  {
   "cell_type": "markdown",
   "id": "fe0fcf16",
   "metadata": {},
   "source": [
    "Gathering information about our columns "
   ]
  },
  {
   "cell_type": "code",
   "execution_count": 9,
   "id": "4e0ec150",
   "metadata": {},
   "outputs": [
    {
     "data": {
      "text/plain": [
       "(           Id ActivityDate  TotalSteps  TotalDistance  TrackerDistance  \\\n",
       " 0  1503960366    4/12/2016       13162           8.50             8.50   \n",
       " 1  1503960366    4/13/2016       10735           6.97             6.97   \n",
       " 2  1503960366    4/14/2016       10460           6.74             6.74   \n",
       " 3  1503960366    4/15/2016        9762           6.28             6.28   \n",
       " 4  1503960366    4/16/2016       12669           8.16             8.16   \n",
       " \n",
       "    LoggedActivitiesDistance  VeryActiveDistance  ModeratelyActiveDistance  \\\n",
       " 0                       0.0                1.88                      0.55   \n",
       " 1                       0.0                1.57                      0.69   \n",
       " 2                       0.0                2.44                      0.40   \n",
       " 3                       0.0                2.14                      1.26   \n",
       " 4                       0.0                2.71                      0.41   \n",
       " \n",
       "    LightActiveDistance  SedentaryActiveDistance  VeryActiveMinutes  \\\n",
       " 0                 6.06                      0.0                 25   \n",
       " 1                 4.71                      0.0                 21   \n",
       " 2                 3.91                      0.0                 30   \n",
       " 3                 2.83                      0.0                 29   \n",
       " 4                 5.04                      0.0                 36   \n",
       " \n",
       "    FairlyActiveMinutes  LightlyActiveMinutes  SedentaryMinutes  Calories  \n",
       " 0                   13                   328               728      1985  \n",
       " 1                   19                   217               776      1797  \n",
       " 2                   11                   181              1218      1776  \n",
       " 3                   34                   209               726      1745  \n",
       " 4                   10                   221               773      1863  ,\n",
       "            Id ActivityDay  StepTotal\n",
       " 0  1503960366   4/12/2016      13162\n",
       " 1  1503960366   4/13/2016      10735\n",
       " 2  1503960366   4/14/2016      10460\n",
       " 3  1503960366   4/15/2016       9762\n",
       " 4  1503960366   4/16/2016      12669,\n",
       "            Id               SleepDay  TotalSleepRecords  TotalMinutesAsleep  \\\n",
       " 0  1503960366  4/12/2016 12:00:00 AM                  1                 327   \n",
       " 1  1503960366  4/13/2016 12:00:00 AM                  2                 384   \n",
       " 2  1503960366  4/15/2016 12:00:00 AM                  1                 412   \n",
       " 3  1503960366  4/16/2016 12:00:00 AM                  2                 340   \n",
       " 4  1503960366  4/17/2016 12:00:00 AM                  1                 700   \n",
       " \n",
       "    TotalTimeInBed  \n",
       " 0             346  \n",
       " 1             407  \n",
       " 2             442  \n",
       " 3             367  \n",
       " 4             712  ,\n",
       "            Id                  Time  Value\n",
       " 0  2022484408  4/12/2016 7:21:00 AM     97\n",
       " 1  2022484408  4/12/2016 7:21:05 AM    102\n",
       " 2  2022484408  4/12/2016 7:21:10 AM    105\n",
       " 3  2022484408  4/12/2016 7:21:20 AM    103\n",
       " 4  2022484408  4/12/2016 7:21:25 AM    101,\n",
       "            Id                   Date    WeightKg  WeightPounds   Fat  \\\n",
       " 0  1503960366   5/2/2016 11:59:59 PM   52.599998    115.963147  22.0   \n",
       " 1  1503960366   5/3/2016 11:59:59 PM   52.599998    115.963147   NaN   \n",
       " 2  1927972279   4/13/2016 1:08:52 AM  133.500000    294.317120   NaN   \n",
       " 3  2873212765  4/21/2016 11:59:59 PM   56.700001    125.002104   NaN   \n",
       " 4  2873212765  5/12/2016 11:59:59 PM   57.299999    126.324875   NaN   \n",
       " \n",
       "          BMI  IsManualReport          LogId  \n",
       " 0  22.650000            True  1462233599000  \n",
       " 1  22.650000            True  1462319999000  \n",
       " 2  47.540001           False  1460509732000  \n",
       " 3  21.450001            True  1461283199000  \n",
       " 4  21.690001            True  1463097599000  )"
      ]
     },
     "execution_count": 9,
     "metadata": {},
     "output_type": "execute_result"
    }
   ],
   "source": [
    "daily_activity_df.head(), daily_steps_df.head(), sleep_day_df.head(), heart_rate_df.head(), weight_log_df.head()\n"
   ]
  },
  {
   "cell_type": "markdown",
   "id": "844e5b82",
   "metadata": {},
   "source": [
    "checking the types for cleaning "
   ]
  },
  {
   "cell_type": "code",
   "execution_count": 12,
   "id": "beae1c15",
   "metadata": {
    "collapsed": true
   },
   "outputs": [
    {
     "data": {
      "text/plain": [
       "Id                                   int64\n",
       "ActivityDate                datetime64[ns]\n",
       "TotalSteps                           int64\n",
       "TotalDistance                      float64\n",
       "TrackerDistance                    float64\n",
       "LoggedActivitiesDistance           float64\n",
       "VeryActiveDistance                 float64\n",
       "ModeratelyActiveDistance           float64\n",
       "LightActiveDistance                float64\n",
       "SedentaryActiveDistance            float64\n",
       "VeryActiveMinutes                    int64\n",
       "FairlyActiveMinutes                  int64\n",
       "LightlyActiveMinutes                 int64\n",
       "SedentaryMinutes                     int64\n",
       "Calories                             int64\n",
       "dtype: object"
      ]
     },
     "execution_count": 12,
     "metadata": {},
     "output_type": "execute_result"
    }
   ],
   "source": [
    "daily_activity_df.dtypes"
   ]
  },
  {
   "cell_type": "code",
   "execution_count": 24,
   "id": "61f13fa7",
   "metadata": {},
   "outputs": [
    {
     "data": {
      "text/plain": [
       "Id                      int64\n",
       "ActivityDay    datetime64[ns]\n",
       "StepTotal               int64\n",
       "dtype: object"
      ]
     },
     "execution_count": 24,
     "metadata": {},
     "output_type": "execute_result"
    }
   ],
   "source": [
    "daily_steps_df.dtypes"
   ]
  },
  {
   "cell_type": "markdown",
   "id": "2698fee2",
   "metadata": {},
   "source": [
    "changing Activity from object to Datetime"
   ]
  },
  {
   "cell_type": "code",
   "execution_count": 11,
   "id": "cef307de",
   "metadata": {},
   "outputs": [],
   "source": [
    "daily_activity_df['ActivityDate'] = pd.to_datetime(daily_activity_df['ActivityDate'], format='%m/%d/%Y')\n"
   ]
  },
  {
   "cell_type": "code",
   "execution_count": 17,
   "id": "10ce0e27",
   "metadata": {},
   "outputs": [],
   "source": [
    "daily_steps_df['ActivityDay'] = pd.to_datetime(daily_steps_df['ActivityDay'], format='%m/%d/%Y')"
   ]
  },
  {
   "cell_type": "code",
   "execution_count": 23,
   "id": "005c3ee0",
   "metadata": {},
   "outputs": [
    {
     "data": {
      "text/plain": [
       "Id                             int64\n",
       "SleepDay              datetime64[ns]\n",
       "TotalSleepRecords              int64\n",
       "TotalMinutesAsleep             int64\n",
       "TotalTimeInBed                 int64\n",
       "dtype: object"
      ]
     },
     "execution_count": 23,
     "metadata": {},
     "output_type": "execute_result"
    }
   ],
   "source": [
    "sleep_day_df.dtypes"
   ]
  },
  {
   "cell_type": "code",
   "execution_count": 19,
   "id": "61cf38d9",
   "metadata": {},
   "outputs": [],
   "source": [
    "sleep_day_df['SleepDay']= pd.to_datetime(sleep_day_df['SleepDay'].str.split(' ').str[0], format='%m/%d/%Y')"
   ]
  },
  {
   "cell_type": "code",
   "execution_count": 21,
   "id": "c12a8897",
   "metadata": {},
   "outputs": [],
   "source": [
    "heart_rate_df['Time']= pd.to_datetime(heart_rate_df['Time'])"
   ]
  },
  {
   "cell_type": "code",
   "execution_count": 22,
   "id": "ca383ab0",
   "metadata": {},
   "outputs": [],
   "source": [
    "weight_log_df['Date']= pd.to_datetime(weight_log_df['Date'].str.split(' ').str[0],format='%m/%d/%Y' )"
   ]
  },
  {
   "cell_type": "code",
   "execution_count": 27,
   "id": "7b5204d0",
   "metadata": {},
   "outputs": [
    {
     "data": {
      "text/plain": [
       "(Id                int64\n",
       " Time     datetime64[ns]\n",
       " Value             int64\n",
       " dtype: object,\n",
       " Id                         int64\n",
       " Date              datetime64[ns]\n",
       " WeightKg                 float64\n",
       " WeightPounds             float64\n",
       " Fat                      float64\n",
       " BMI                      float64\n",
       " IsManualReport              bool\n",
       " LogId                      int64\n",
       " dtype: object)"
      ]
     },
     "execution_count": 27,
     "metadata": {},
     "output_type": "execute_result"
    }
   ],
   "source": [
    "heart_rate_df.dtypes,weight_log_df.dtypes"
   ]
  },
  {
   "cell_type": "markdown",
   "id": "b437393e",
   "metadata": {},
   "source": [
    "checking for missing values "
   ]
  },
  {
   "cell_type": "code",
   "execution_count": 38,
   "id": "672f3f40",
   "metadata": {
    "collapsed": true
   },
   "outputs": [
    {
     "data": {
      "text/plain": [
       "{'daily_activity_df': Id                          0\n",
       " ActivityDate                0\n",
       " TotalSteps                  0\n",
       " TotalDistance               0\n",
       " TrackerDistance             0\n",
       " LoggedActivitiesDistance    0\n",
       " VeryActiveDistance          0\n",
       " ModeratelyActiveDistance    0\n",
       " LightActiveDistance         0\n",
       " SedentaryActiveDistance     0\n",
       " VeryActiveMinutes           0\n",
       " FairlyActiveMinutes         0\n",
       " LightlyActiveMinutes        0\n",
       " SedentaryMinutes            0\n",
       " Calories                    0\n",
       " dtype: int64,\n",
       " 'daily_steps_df': Id             0\n",
       " ActivityDay    0\n",
       " StepTotal      0\n",
       " dtype: int64,\n",
       " 'sleep_day_df': Id                    0\n",
       " SleepDay              0\n",
       " TotalSleepRecords     0\n",
       " TotalMinutesAsleep    0\n",
       " TotalTimeInBed        0\n",
       " dtype: int64,\n",
       " 'heart_rate_df': Id       0\n",
       " Time     0\n",
       " Value    0\n",
       " dtype: int64,\n",
       " 'weight_log_df': Id                 0\n",
       " Date               0\n",
       " WeightKg           0\n",
       " WeightPounds       0\n",
       " Fat               65\n",
       " BMI                0\n",
       " IsManualReport     0\n",
       " LogId              0\n",
       " dtype: int64}"
      ]
     },
     "execution_count": 38,
     "metadata": {},
     "output_type": "execute_result"
    }
   ],
   "source": [
    "missing_values_summary = {\n",
    "    'daily_activity_df': daily_activity_df.isnull().sum(),\n",
    "    'daily_steps_df': daily_steps_df.isnull().sum(),\n",
    "    'sleep_day_df': sleep_day_df.isnull().sum(),\n",
    "    'heart_rate_df': heart_rate_df.isnull().sum(),\n",
    "    'weight_log_df': weight_log_df.isnull().sum()\n",
    "}\n",
    "\n",
    "missing_values_summary"
   ]
  },
  {
   "cell_type": "markdown",
   "id": "f837784f",
   "metadata": {},
   "source": [
    "removing missing values from our \"Fat\" column"
   ]
  },
  {
   "cell_type": "code",
   "execution_count": 39,
   "id": "34426062",
   "metadata": {},
   "outputs": [
    {
     "data": {
      "text/html": [
       "<div>\n",
       "<style scoped>\n",
       "    .dataframe tbody tr th:only-of-type {\n",
       "        vertical-align: middle;\n",
       "    }\n",
       "\n",
       "    .dataframe tbody tr th {\n",
       "        vertical-align: top;\n",
       "    }\n",
       "\n",
       "    .dataframe thead th {\n",
       "        text-align: right;\n",
       "    }\n",
       "</style>\n",
       "<table border=\"1\" class=\"dataframe\">\n",
       "  <thead>\n",
       "    <tr style=\"text-align: right;\">\n",
       "      <th></th>\n",
       "      <th>Id</th>\n",
       "      <th>Date</th>\n",
       "      <th>WeightKg</th>\n",
       "      <th>WeightPounds</th>\n",
       "      <th>Fat</th>\n",
       "      <th>BMI</th>\n",
       "      <th>IsManualReport</th>\n",
       "      <th>LogId</th>\n",
       "    </tr>\n",
       "  </thead>\n",
       "  <tbody>\n",
       "    <tr>\n",
       "      <th>0</th>\n",
       "      <td>1503960366</td>\n",
       "      <td>2016-05-02</td>\n",
       "      <td>52.599998</td>\n",
       "      <td>115.963147</td>\n",
       "      <td>22.0</td>\n",
       "      <td>22.650000</td>\n",
       "      <td>True</td>\n",
       "      <td>1462233599000</td>\n",
       "    </tr>\n",
       "    <tr>\n",
       "      <th>5</th>\n",
       "      <td>4319703577</td>\n",
       "      <td>2016-04-17</td>\n",
       "      <td>72.400002</td>\n",
       "      <td>159.614681</td>\n",
       "      <td>25.0</td>\n",
       "      <td>27.450001</td>\n",
       "      <td>True</td>\n",
       "      <td>1460937599000</td>\n",
       "    </tr>\n",
       "  </tbody>\n",
       "</table>\n",
       "</div>"
      ],
      "text/plain": [
       "           Id       Date   WeightKg  WeightPounds   Fat        BMI  \\\n",
       "0  1503960366 2016-05-02  52.599998    115.963147  22.0  22.650000   \n",
       "5  4319703577 2016-04-17  72.400002    159.614681  25.0  27.450001   \n",
       "\n",
       "   IsManualReport          LogId  \n",
       "0            True  1462233599000  \n",
       "5            True  1460937599000  "
      ]
     },
     "execution_count": 39,
     "metadata": {},
     "output_type": "execute_result"
    }
   ],
   "source": [
    "weight_log_df_clean = weight_log_df.dropna(subset=['Fat'])\n",
    "weight_log_df_clean.head()\n"
   ]
  },
  {
   "cell_type": "markdown",
   "id": "9ecd7377",
   "metadata": {},
   "source": [
    "Checking for duplicates in our dataset and dropping if there is any "
   ]
  },
  {
   "cell_type": "code",
   "execution_count": 29,
   "id": "c86d7bcb",
   "metadata": {},
   "outputs": [],
   "source": [
    "daily_activity_df.drop_duplicates(inplace=True)\n",
    "daily_steps_df.drop_duplicates(inplace=True)\n",
    "sleep_day_df.drop_duplicates(inplace=True)\n",
    "heart_rate_df.drop_duplicates(inplace=True)\n",
    "weight_log_df.drop_duplicates(inplace=True)"
   ]
  },
  {
   "cell_type": "code",
   "execution_count": 30,
   "id": "fd8415fc",
   "metadata": {},
   "outputs": [
    {
     "data": {
      "text/plain": [
       "(940, 15)"
      ]
     },
     "execution_count": 30,
     "metadata": {},
     "output_type": "execute_result"
    }
   ],
   "source": [
    "daily_activity_df.shape"
   ]
  },
  {
   "cell_type": "code",
   "execution_count": 31,
   "id": "1298fd43",
   "metadata": {
    "collapsed": true
   },
   "outputs": [
    {
     "data": {
      "text/html": [
       "<div>\n",
       "<style scoped>\n",
       "    .dataframe tbody tr th:only-of-type {\n",
       "        vertical-align: middle;\n",
       "    }\n",
       "\n",
       "    .dataframe tbody tr th {\n",
       "        vertical-align: top;\n",
       "    }\n",
       "\n",
       "    .dataframe thead th {\n",
       "        text-align: right;\n",
       "    }\n",
       "</style>\n",
       "<table border=\"1\" class=\"dataframe\">\n",
       "  <thead>\n",
       "    <tr style=\"text-align: right;\">\n",
       "      <th></th>\n",
       "      <th>Id</th>\n",
       "      <th>TotalSteps</th>\n",
       "      <th>TotalDistance</th>\n",
       "      <th>TrackerDistance</th>\n",
       "      <th>LoggedActivitiesDistance</th>\n",
       "      <th>VeryActiveDistance</th>\n",
       "      <th>ModeratelyActiveDistance</th>\n",
       "      <th>LightActiveDistance</th>\n",
       "      <th>SedentaryActiveDistance</th>\n",
       "      <th>VeryActiveMinutes</th>\n",
       "      <th>FairlyActiveMinutes</th>\n",
       "      <th>LightlyActiveMinutes</th>\n",
       "      <th>SedentaryMinutes</th>\n",
       "      <th>Calories</th>\n",
       "    </tr>\n",
       "  </thead>\n",
       "  <tbody>\n",
       "    <tr>\n",
       "      <th>count</th>\n",
       "      <td>9.400000e+02</td>\n",
       "      <td>940.000000</td>\n",
       "      <td>940.000000</td>\n",
       "      <td>940.000000</td>\n",
       "      <td>940.000000</td>\n",
       "      <td>940.000000</td>\n",
       "      <td>940.000000</td>\n",
       "      <td>940.000000</td>\n",
       "      <td>940.000000</td>\n",
       "      <td>940.000000</td>\n",
       "      <td>940.000000</td>\n",
       "      <td>940.000000</td>\n",
       "      <td>940.000000</td>\n",
       "      <td>940.000000</td>\n",
       "    </tr>\n",
       "    <tr>\n",
       "      <th>mean</th>\n",
       "      <td>4.855407e+09</td>\n",
       "      <td>7637.910638</td>\n",
       "      <td>5.489702</td>\n",
       "      <td>5.475351</td>\n",
       "      <td>0.108171</td>\n",
       "      <td>1.502681</td>\n",
       "      <td>0.567543</td>\n",
       "      <td>3.340819</td>\n",
       "      <td>0.001606</td>\n",
       "      <td>21.164894</td>\n",
       "      <td>13.564894</td>\n",
       "      <td>192.812766</td>\n",
       "      <td>991.210638</td>\n",
       "      <td>2303.609574</td>\n",
       "    </tr>\n",
       "    <tr>\n",
       "      <th>std</th>\n",
       "      <td>2.424805e+09</td>\n",
       "      <td>5087.150742</td>\n",
       "      <td>3.924606</td>\n",
       "      <td>3.907276</td>\n",
       "      <td>0.619897</td>\n",
       "      <td>2.658941</td>\n",
       "      <td>0.883580</td>\n",
       "      <td>2.040655</td>\n",
       "      <td>0.007346</td>\n",
       "      <td>32.844803</td>\n",
       "      <td>19.987404</td>\n",
       "      <td>109.174700</td>\n",
       "      <td>301.267437</td>\n",
       "      <td>718.166862</td>\n",
       "    </tr>\n",
       "    <tr>\n",
       "      <th>min</th>\n",
       "      <td>1.503960e+09</td>\n",
       "      <td>0.000000</td>\n",
       "      <td>0.000000</td>\n",
       "      <td>0.000000</td>\n",
       "      <td>0.000000</td>\n",
       "      <td>0.000000</td>\n",
       "      <td>0.000000</td>\n",
       "      <td>0.000000</td>\n",
       "      <td>0.000000</td>\n",
       "      <td>0.000000</td>\n",
       "      <td>0.000000</td>\n",
       "      <td>0.000000</td>\n",
       "      <td>0.000000</td>\n",
       "      <td>0.000000</td>\n",
       "    </tr>\n",
       "    <tr>\n",
       "      <th>25%</th>\n",
       "      <td>2.320127e+09</td>\n",
       "      <td>3789.750000</td>\n",
       "      <td>2.620000</td>\n",
       "      <td>2.620000</td>\n",
       "      <td>0.000000</td>\n",
       "      <td>0.000000</td>\n",
       "      <td>0.000000</td>\n",
       "      <td>1.945000</td>\n",
       "      <td>0.000000</td>\n",
       "      <td>0.000000</td>\n",
       "      <td>0.000000</td>\n",
       "      <td>127.000000</td>\n",
       "      <td>729.750000</td>\n",
       "      <td>1828.500000</td>\n",
       "    </tr>\n",
       "    <tr>\n",
       "      <th>50%</th>\n",
       "      <td>4.445115e+09</td>\n",
       "      <td>7405.500000</td>\n",
       "      <td>5.245000</td>\n",
       "      <td>5.245000</td>\n",
       "      <td>0.000000</td>\n",
       "      <td>0.210000</td>\n",
       "      <td>0.240000</td>\n",
       "      <td>3.365000</td>\n",
       "      <td>0.000000</td>\n",
       "      <td>4.000000</td>\n",
       "      <td>6.000000</td>\n",
       "      <td>199.000000</td>\n",
       "      <td>1057.500000</td>\n",
       "      <td>2134.000000</td>\n",
       "    </tr>\n",
       "    <tr>\n",
       "      <th>75%</th>\n",
       "      <td>6.962181e+09</td>\n",
       "      <td>10727.000000</td>\n",
       "      <td>7.712500</td>\n",
       "      <td>7.710000</td>\n",
       "      <td>0.000000</td>\n",
       "      <td>2.052500</td>\n",
       "      <td>0.800000</td>\n",
       "      <td>4.782500</td>\n",
       "      <td>0.000000</td>\n",
       "      <td>32.000000</td>\n",
       "      <td>19.000000</td>\n",
       "      <td>264.000000</td>\n",
       "      <td>1229.500000</td>\n",
       "      <td>2793.250000</td>\n",
       "    </tr>\n",
       "    <tr>\n",
       "      <th>max</th>\n",
       "      <td>8.877689e+09</td>\n",
       "      <td>36019.000000</td>\n",
       "      <td>28.030001</td>\n",
       "      <td>28.030001</td>\n",
       "      <td>4.942142</td>\n",
       "      <td>21.920000</td>\n",
       "      <td>6.480000</td>\n",
       "      <td>10.710000</td>\n",
       "      <td>0.110000</td>\n",
       "      <td>210.000000</td>\n",
       "      <td>143.000000</td>\n",
       "      <td>518.000000</td>\n",
       "      <td>1440.000000</td>\n",
       "      <td>4900.000000</td>\n",
       "    </tr>\n",
       "  </tbody>\n",
       "</table>\n",
       "</div>"
      ],
      "text/plain": [
       "                 Id    TotalSteps  TotalDistance  TrackerDistance  \\\n",
       "count  9.400000e+02    940.000000     940.000000       940.000000   \n",
       "mean   4.855407e+09   7637.910638       5.489702         5.475351   \n",
       "std    2.424805e+09   5087.150742       3.924606         3.907276   \n",
       "min    1.503960e+09      0.000000       0.000000         0.000000   \n",
       "25%    2.320127e+09   3789.750000       2.620000         2.620000   \n",
       "50%    4.445115e+09   7405.500000       5.245000         5.245000   \n",
       "75%    6.962181e+09  10727.000000       7.712500         7.710000   \n",
       "max    8.877689e+09  36019.000000      28.030001        28.030001   \n",
       "\n",
       "       LoggedActivitiesDistance  VeryActiveDistance  ModeratelyActiveDistance  \\\n",
       "count                940.000000          940.000000                940.000000   \n",
       "mean                   0.108171            1.502681                  0.567543   \n",
       "std                    0.619897            2.658941                  0.883580   \n",
       "min                    0.000000            0.000000                  0.000000   \n",
       "25%                    0.000000            0.000000                  0.000000   \n",
       "50%                    0.000000            0.210000                  0.240000   \n",
       "75%                    0.000000            2.052500                  0.800000   \n",
       "max                    4.942142           21.920000                  6.480000   \n",
       "\n",
       "       LightActiveDistance  SedentaryActiveDistance  VeryActiveMinutes  \\\n",
       "count           940.000000               940.000000         940.000000   \n",
       "mean              3.340819                 0.001606          21.164894   \n",
       "std               2.040655                 0.007346          32.844803   \n",
       "min               0.000000                 0.000000           0.000000   \n",
       "25%               1.945000                 0.000000           0.000000   \n",
       "50%               3.365000                 0.000000           4.000000   \n",
       "75%               4.782500                 0.000000          32.000000   \n",
       "max              10.710000                 0.110000         210.000000   \n",
       "\n",
       "       FairlyActiveMinutes  LightlyActiveMinutes  SedentaryMinutes  \\\n",
       "count           940.000000            940.000000        940.000000   \n",
       "mean             13.564894            192.812766        991.210638   \n",
       "std              19.987404            109.174700        301.267437   \n",
       "min               0.000000              0.000000          0.000000   \n",
       "25%               0.000000            127.000000        729.750000   \n",
       "50%               6.000000            199.000000       1057.500000   \n",
       "75%              19.000000            264.000000       1229.500000   \n",
       "max             143.000000            518.000000       1440.000000   \n",
       "\n",
       "          Calories  \n",
       "count   940.000000  \n",
       "mean   2303.609574  \n",
       "std     718.166862  \n",
       "min       0.000000  \n",
       "25%    1828.500000  \n",
       "50%    2134.000000  \n",
       "75%    2793.250000  \n",
       "max    4900.000000  "
      ]
     },
     "execution_count": 31,
     "metadata": {},
     "output_type": "execute_result"
    }
   ],
   "source": [
    "daily_activity_summary_stats = daily_activity_df.describe()\n",
    "\n",
    "daily_activity_summary_stats"
   ]
  },
  {
   "cell_type": "markdown",
   "id": "942dafa8",
   "metadata": {},
   "source": [
    "creating visualization and setting the aesthetic style\n",
    "figure one is the distribution of total steps\n",
    "figure two is Daily Active Minutes (Very Active vs Lightly Active)\n",
    "figure three is Relationship Between Active Minutes and Calories Burned"
   ]
  },
  {
   "cell_type": "code",
   "execution_count": 32,
   "id": "7b6ac6a3",
   "metadata": {},
   "outputs": [
    {
     "data": {
      "image/png": "[encoded data removed]",
      "text/plain": [
       "<Figure size 864x432 with 1 Axes>"
      ]
     },
     "metadata": {},
     "output_type": "display_data"
    },
    {
     "data": {
      "image/png": "[encoded data removed]",
      "text/plain": [
       "<Figure size 864x432 with 1 Axes>"
      ]
     },
     "metadata": {},
     "output_type": "display_data"
    },
    {
     "data": {
      "image/png": "[encoded data removed]",
      "text/plain": [
       "<Figure size 864x432 with 1 Axes>"
      ]
     },
     "metadata": {},
     "output_type": "display_data"
    }
   ],
   "source": [
    "sns.set_style(\"whitegrid\")\n",
    "\n",
    "\n",
    "plt.figure(figsize=(12, 6))\n",
    "sns.histplot(daily_activity_df['TotalSteps'], bins=30, kde=True)\n",
    "plt.title('Distribution of Total Daily Steps')\n",
    "plt.xlabel('Total Steps')\n",
    "plt.ylabel('Frequency')\n",
    "plt.axvline(daily_activity_df['TotalSteps'].mean(), color='red', linestyle='--', label='Mean Steps')\n",
    "plt.legend()\n",
    "plt.show()\n",
    "\n",
    "plt.figure(figsize=(12, 6))\n",
    "sns.scatterplot(x='LightlyActiveMinutes', y='VeryActiveMinutes', data=daily_activity_df)\n",
    "plt.title('Daily Lightly Active Minutes vs Very Active Minutes')\n",
    "plt.xlabel('Lightly Active Minutes')\n",
    "plt.ylabel('Very Active Minutes')\n",
    "plt.show()\n",
    "\n",
    "plt.figure(figsize=(12, 6))\n",
    "sns.scatterplot(x='TotalSteps', y='Calories', data=daily_activity_df)\n",
    "plt.title('Relationship Between Total Steps and Calories Burned')\n",
    "plt.xlabel('Total Steps')\n",
    "plt.ylabel('Calories Burned')\n",
    "plt.show()\n"
   ]
  },
  {
   "cell_type": "markdown",
   "id": "eca1b95f",
   "metadata": {},
   "source": [
    "here we Analyze Activity and Sleep Patterns and calculate avg daily steps, sleep duration and quality metrics"
   ]
  },
  {
   "cell_type": "code",
   "execution_count": 33,
   "id": "8d8ba3f3",
   "metadata": {},
   "outputs": [
    {
     "data": {
      "text/plain": [
       "{'Average Daily Steps': 7637.9106382978725,\n",
       " 'Average Sleep Duration (hours)': 6.986219512195122,\n",
       " 'Average Sleep Efficiency (%)': 91.64667080104194}"
      ]
     },
     "execution_count": 33,
     "metadata": {},
     "output_type": "execute_result"
    }
   ],
   "source": [
    "avg_daily_steps = daily_activity_df['TotalSteps'].mean()\n",
    "avg_sleep_duration = sleep_day_df['TotalMinutesAsleep'].mean() / 60  # Convert to hours\n",
    "avg_sleep_efficiency = (sleep_day_df['TotalMinutesAsleep'] / sleep_day_df['TotalTimeInBed']).mean() * 100\n",
    "\n",
    "activity_sleep_summary = {\n",
    "    \"Average Daily Steps\": avg_daily_steps,\n",
    "    \"Average Sleep Duration (hours)\": avg_sleep_duration,\n",
    "    \"Average Sleep Efficiency (%)\": avg_sleep_efficiency\n",
    "}\n",
    "\n",
    "activity_sleep_summary\n"
   ]
  },
  {
   "cell_type": "markdown",
   "id": "056f979d",
   "metadata": {},
   "source": [
    "saving documents to use for tableau "
   ]
  },
  {
   "cell_type": "code",
   "execution_count": 40,
   "id": "019377c6",
   "metadata": {},
   "outputs": [],
   "source": [
    "daily_activity_df.to_csv('daily_activity_cleaned.csv', index=False)\n",
    "\n",
    "sleep_day_df.to_csv('sleep_day_cleaned.csv', index=False)\n",
    "\n",
    "heart_rate_df.to_csv('heart_rate_cleaned.csv', index=False)\n",
    "\n",
    "weight_log_df.to_csv('weight_log_cleaned.csv', index=False)\n"
   ]
  }
 ],
 "metadata": {
  "kernelspec": {
   "display_name": "Python 3 (ipykernel)",
   "language": "python",
   "name": "python3"
  },
  "language_info": {
   "codemirror_mode": {
    "name": "ipython",
    "version": 3
   },
   "file_extension": ".py",
   "mimetype": "text/x-python",
   "name": "python",
   "nbconvert_exporter": "python",
   "pygments_lexer": "ipython3",
   "version": "3.9.12"
  }
 },
 "nbformat": 4,
 "nbformat_minor": 5
}
